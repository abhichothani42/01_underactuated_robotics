{
 "cells": [
  {
   "cell_type": "markdown",
   "metadata": {
    "cell_id": "9e1e60b8083e4dd08b1ceadc0640e933",
    "deepnote_cell_type": "markdown",
    "id": "TKvYiJgnYExi"
   },
   "source": [
    "This notebook provides examples to go along with the [textbook](https://underactuated.csail.mit.edu/pend.html).  I recommend having both windows open, side-by-side!\n"
   ]
  },
  {
   "cell_type": "code",
   "execution_count": 1,
   "metadata": {
    "cell_id": "b95143be0d5f4077b0d581ace91cd9e5",
    "deepnote_cell_type": "code",
    "id": "A4QOaw_zYLfI"
   },
   "outputs": [],
   "source": [
    "import matplotlib.pyplot as plt\n",
    "import numpy as np\n",
    "from pydrake.all import (\n",
    "    DiagramBuilder,\n",
    "    LogVectorOutput,\n",
    "    Simulator,\n",
    "    StartMeshcat,\n",
    "    SymbolicVectorSystem,\n",
    "    Variable,\n",
    ")\n",
    "\n",
    "from underactuated.meshcat_utils import _interact"
   ]
  },
  {
   "cell_type": "code",
   "execution_count": 2,
   "metadata": {
    "cell_id": "29a42d4e34f34d23bb2ba8251645a9b2",
    "deepnote_cell_type": "code"
   },
   "outputs": [
    {
     "name": "stderr",
     "output_type": "stream",
     "text": [
      "INFO:drake:Meshcat listening for connections at http://localhost:7000\n"
     ]
    }
   ],
   "source": [
    "# Start the visualizer (run this cell only once, each instance consumes a port)\n",
    "meshcat = StartMeshcat()"
   ]
  },
  {
   "cell_type": "markdown",
   "metadata": {
    "cell_id": "f5977957c2bf4784b88cf46b802d1c97",
    "deepnote_cell_type": "markdown",
    "id": "zKmlDpfeKUSo"
   },
   "source": [
    "# Autapse\n",
    "\n",
    "The simplest recurrent neural network model.  $$\\dot{x} + x = \\tanh(wx + u)$$"
   ]
  },
  {
   "cell_type": "code",
   "execution_count": 3,
   "metadata": {
    "cell_id": "aeda580df55d4581a96fdc512c5a0ed3",
    "deepnote_cell_type": "code",
    "id": "ftbxk7ddKUSo"
   },
   "outputs": [
    {
     "name": "stdout",
     "output_type": "stream",
     "text": [
      "Press the 'Stop Interacting' button in Meshcat to continue.\n"
     ]
    }
   ],
   "source": [
    "def autapse(x, w=1, u=0):\n",
    "    \"\"\"Args:\n",
    "    w is feedback weight\n",
    "    u is input\n",
    "    \"\"\"\n",
    "    return -x + np.tanh(w * x + u)\n",
    "\n",
    "\n",
    "Autapse = np.vectorize(autapse)\n",
    "xmax = 2.0\n",
    "ymax = 1.0\n",
    "x = np.arange(-xmax, xmax, 0.01)\n",
    "\n",
    "meshcat.Delete()\n",
    "meshcat.Set2dRenderMode(xmax=xmax, xmin=-xmax, ymin=-ymax, ymax=ymax)\n",
    "meshcat.SetProperty(\"/Grid\", \"visible\", True)\n",
    "meshcat.SetProperty(\"/Axes\", \"visible\", True)\n",
    "\n",
    "\n",
    "def update(w=1, u=0):\n",
    "    # TODO(russt): Visualize fixed points here, too.\n",
    "    meshcat.SetLine(\n",
    "        \"autapse\", np.vstack([x, 0 * x, Autapse(x, w=w, u=u)]), line_width=4.0\n",
    "    )\n",
    "\n",
    "\n",
    "_interact(meshcat, update, w=(0, 3, 0.1), u=(-1.5, 1.5, 0.1))"
   ]
  },
  {
   "cell_type": "markdown",
   "metadata": {
    "cell_id": "ce5c0bf004b9477a80bfe636dca8ddbf",
    "deepnote_cell_type": "markdown"
   },
   "source": [
    "Now to capture the \"bistability\" of the autapse, let's simulate the system's response to an input wave with a square pulse.  From the initial conditions, it converges towards the stable fixed point near $x=1$, but when we set the input we move that fixed point (to closer to $x=-1$). But the \"memory\" persists; if we remove the input, it will stay in the new fixed point."
   ]
  },
  {
   "cell_type": "code",
   "execution_count": 4,
   "metadata": {
    "cell_id": "5091dd2c2e404ebea4c0520d1bf593a6",
    "deepnote_cell_type": "code"
   },
   "outputs": [
    {
     "data": {
      "image/png": "[encoded data removed]",
      "text/plain": [
       "<Figure size 640x480 with 2 Axes>"
      ]
     },
     "metadata": {},
     "output_type": "display_data"
    }
   ],
   "source": [
    "def pulse_response_demo():\n",
    "    x = Variable(\"x\")\n",
    "    u = Variable(\"u\")\n",
    "    w = 5\n",
    "\n",
    "    builder = DiagramBuilder()\n",
    "    autapse = builder.AddSystem(\n",
    "        SymbolicVectorSystem(\n",
    "            state=[x],\n",
    "            input=[u],\n",
    "            dynamics=[-x + np.tanh(w * x + u)],\n",
    "            output=[x],\n",
    "        )\n",
    "    )\n",
    "    logger = LogVectorOutput(autapse.get_output_port(0), builder)\n",
    "    builder.ExportInput(autapse.get_input_port(0))\n",
    "\n",
    "    diagram = builder.Build()\n",
    "    context = diagram.CreateDefaultContext()\n",
    "\n",
    "    # initial conditions: x = .1, u = 0\n",
    "    context.SetContinuousState([0.1])\n",
    "    diagram.get_input_port(0).FixValue(context, [0])\n",
    "\n",
    "    simulator = Simulator(diagram, context)\n",
    "    simulator.AdvanceTo(10)\n",
    "\n",
    "    diagram.get_input_port(0).FixValue(context, [-5])\n",
    "    simulator.AdvanceTo(20)\n",
    "\n",
    "    diagram.get_input_port(0).FixValue(context, [0])\n",
    "    simulator.AdvanceTo(30)\n",
    "\n",
    "    log = logger.FindLog(context)\n",
    "    fig, ax = plt.subplots(2, 1)\n",
    "    ax[0].plot([0, 10, 10, 20, 20, 30], [0, 0, -5, -5, 0, 0])  # input\n",
    "    ax[1].plot(log.sample_times(), log.data().T)  # state\n",
    "    ax[0].legend([\"u(t)\"])\n",
    "    ax[1].legend([\"x(t)\"])\n",
    "    ax[1].set_xlabel(\"time (s)\")\n",
    "\n",
    "\n",
    "pulse_response_demo()"
   ]
  },
  {
   "cell_type": "code",
   "execution_count": null,
   "metadata": {
    "cell_id": "2d3172a9deb14d4b99cf1ae08569e527",
    "deepnote_cell_type": "code"
   },
   "outputs": [],
   "source": []
  }
 ],
 "metadata": {
  "deepnote_notebook_id": "986a340f7c1d4793acb1cbce92377d56",
  "kernelspec": {
   "display_name": "robotics",
   "language": "python",
   "name": "python3"
  },
  "language_info": {
   "codemirror_mode": {
    "name": "ipython",
    "version": 3
   },
   "file_extension": ".py",
   "mimetype": "text/x-python",
   "name": "python",
   "nbconvert_exporter": "python",
   "pygments_lexer": "ipython3",
   "version": "3.12.9"
  }
 },
 "nbformat": 4,
 "nbformat_minor": 0
}
