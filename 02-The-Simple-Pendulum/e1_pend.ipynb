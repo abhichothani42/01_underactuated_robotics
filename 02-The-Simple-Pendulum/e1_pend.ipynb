{
 "cells": [
  {
   "cell_type": "markdown",
   "metadata": {
    "cell_id": "30518aca7e47415992d8a7350139a320",
    "deepnote_cell_type": "markdown",
    "id": "TKvYiJgnYExi"
   },
   "source": [
    "This notebook provides examples to go along with the [textbook](https://underactuated.csail.mit.edu/pend.html).  I recommend having both windows open, side-by-side!\n"
   ]
  },
  {
   "cell_type": "code",
   "execution_count": 1,
   "metadata": {
    "cell_id": "953303d215a74ccc80331f2b13c078c0",
    "deepnote_cell_type": "code",
    "id": "A4QOaw_zYLfI"
   },
   "outputs": [],
   "source": [
    "import numpy as np\n",
    "from pydrake.all import (\n",
    "    DiagramBuilder,\n",
    "    MeshcatVisualizer,\n",
    "    RigidTransform,\n",
    "    RotationMatrix,\n",
    "    SceneGraph,\n",
    "    Simulator,\n",
    "    StartMeshcat,\n",
    "    \n",
    ")\n",
    "from pydrake.examples import PendulumGeometry, PendulumPlant\n",
    "\n",
    "from underactuated import running_as_notebook\n",
    "from underactuated.meshcat_utils import MeshcatSliders"
   ]
  },
  {
   "cell_type": "code",
   "execution_count": 2,
   "metadata": {
    "cell_id": "451e56435acf4af19992821cc65614af",
    "deepnote_cell_type": "code"
   },
   "outputs": [
    {
     "name": "stderr",
     "output_type": "stream",
     "text": [
      "INFO:drake:Meshcat listening for connections at http://localhost:7000\n"
     ]
    }
   ],
   "source": [
    "# Start the visualizer (run this cell only once, each instance consumes a port)\n",
    "meshcat = StartMeshcat()"
   ]
  },
  {
   "cell_type": "markdown",
   "metadata": {
    "cell_id": "1de7d2a80dde489d9ed534c35ba59904",
    "deepnote_cell_type": "markdown",
    "id": "C1sdq2R88C16"
   },
   "source": [
    "# Dynamics of the Simple Pendulum\n",
    "\n",
    "I find it extremely useful to use simulation to get physical intuition about these systems.  Let's make sure we understand how the simple pendulum moves when it is exposed to a torque.\n",
    "\n",
    "For the duration of this notebook, we'll use the equations of motion $$ml^2 \\ddot\\theta + b\\dot\\theta + mgl \\sin\\theta = u,$$ where $u$ is our torque input.\n",
    "\n",
    "## Basic simulation\n",
    "\n",
    "The pendulum is a core example in Drake.  We could certainly load it from a .urdf file, but Drake offers a Pendulum implementation that makes it convenient to manipulate the parameters (and visualize the system with different parameters)."
   ]
  },
  {
   "cell_type": "code",
   "execution_count": 5,
   "metadata": {
    "cell_id": "3ea1b2ff56774c528c762ed62c2c719f",
    "deepnote_cell_type": "code",
    "id": "8wj7ZlyEw_AB"
   },
   "outputs": [
    {
     "name": "stdout",
     "output_type": "stream",
     "text": [
      "Use the slider in the MeshCat controls to apply elbow torque.\n",
      "Press 'Stop Simulation' in MeshCat to continue.\n"
     ]
    }
   ],
   "source": [
    "def pendulum_simulation():\n",
    "    builder = DiagramBuilder()\n",
    "    pendulum = builder.AddSystem(PendulumPlant())\n",
    "\n",
    "    # Setup visualization\n",
    "    scene_graph = builder.AddSystem(SceneGraph())\n",
    "    PendulumGeometry.AddToBuilder(\n",
    "        builder, pendulum.get_state_output_port(), scene_graph\n",
    "    )\n",
    "    MeshcatVisualizer.AddToBuilder(builder, scene_graph, meshcat)\n",
    "    meshcat.Delete()\n",
    "    meshcat.Set2dRenderMode(\n",
    "        X_WC=RigidTransform(RotationMatrix.MakeZRotation(np.pi), [0, 1, 0])\n",
    "    )\n",
    "\n",
    "    # Setup slider input\n",
    "    meshcat.AddSlider(\"u\", min=-5, max=5, step=0.1, value=0.0)\n",
    "    torque_system = builder.AddSystem(MeshcatSliders(meshcat, [\"u\"]))\n",
    "    builder.Connect(torque_system.get_output_port(), pendulum.get_input_port())\n",
    "\n",
    "    diagram = builder.Build()\n",
    "\n",
    "    # Set up a simulator to run this diagram\n",
    "    simulator = Simulator(diagram)\n",
    "    context = simulator.get_mutable_context()\n",
    "\n",
    "    meshcat.AddButton(\"Stop Simulation\")\n",
    "\n",
    "    # Set the initial conditions\n",
    "    context.SetContinuousState([0.5, 0])  # theta, thetadot\n",
    "\n",
    "    if running_as_notebook:  # Then we're not just running as a test on CI.\n",
    "        simulator.set_target_realtime_rate(1.0)\n",
    "\n",
    "        print(\"Use the slider in the MeshCat controls to apply elbow torque.\")\n",
    "        print(\"Press 'Stop Simulation' in MeshCat to continue.\")\n",
    "        while meshcat.GetButtonClicks(\"Stop Simulation\") < 1:\n",
    "            simulator.AdvanceTo(simulator.get_context().get_time() + 1.0)\n",
    "    else:\n",
    "        simulator.AdvanceTo(0.1)\n",
    "\n",
    "    meshcat.DeleteAddedControls()\n",
    "\n",
    "\n",
    "pendulum_simulation()"
   ]
  },
  {
   "cell_type": "markdown",
   "metadata": {
    "cell_id": "f1e4a6a405c04c969f44b9c0afaba99a",
    "deepnote_cell_type": "markdown",
    "id": "aNHdvSloKUSn"
   },
   "source": [
    "After running the cell above, you should use the \"Open Controls\" panel in meshcat to see the interactive slider that will control the torque.  Press the \"Stop Simulation\" button to regain control and continue in the notebook."
   ]
  }
 ],
 "metadata": {
  "deepnote_notebook_id": "da024e5b5f1e46fe83b98c761256c5c5",
  "kernelspec": {
   "display_name": "robotics",
   "language": "python",
   "name": "python3"
  },
  "language_info": {
   "codemirror_mode": {
    "name": "ipython",
    "version": 3
   },
   "file_extension": ".py",
   "mimetype": "text/x-python",
   "name": "python",
   "nbconvert_exporter": "python",
   "pygments_lexer": "ipython3",
   "version": "3.12.9"
  }
 },
 "nbformat": 4,
 "nbformat_minor": 0
}
